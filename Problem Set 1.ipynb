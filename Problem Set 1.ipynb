{
 "cells": [
  {
   "cell_type": "code",
   "execution_count": 67,
   "metadata": {},
   "outputs": [],
   "source": [
    "# Exercise 0\n",
    "\n",
    "def github() -> str:\n",
    "\n",
    "    \"\"\"\n",
    "    This function will return Bani Bedi's GitHub page for Problem Set 1.\n",
    "    \"\"\"\n",
    "\n",
    "    return \"https://github.com/banibedi/Econ481.git\""
   ]
  },
  {
   "cell_type": "code",
   "execution_count": 5,
   "metadata": {},
   "outputs": [],
   "source": [
    "# Exercise 1 - Installing Packages\n",
    "import numpy\n",
    "import pandas\n",
    "import scipy\n",
    "import matplotlib\n",
    "import seaborn"
   ]
  },
  {
   "cell_type": "code",
   "execution_count": 5,
   "metadata": {},
   "outputs": [
    {
     "ename": "ValueError",
     "evalue": "invalid literal for int() with base 10: ''",
     "output_type": "error",
     "traceback": [
      "\u001b[1;31m---------------------------------------------------------------------------\u001b[0m",
      "\u001b[1;31mValueError\u001b[0m                                Traceback (most recent call last)",
      "Cell \u001b[1;32mIn[5], line 29\u001b[0m\n\u001b[0;32m     26\u001b[0m             \u001b[38;5;28mprint\u001b[39m(\u001b[38;5;124mf\u001b[39m\u001b[38;5;124m\"\u001b[39m\u001b[38;5;124mSum of odd numbers less than \u001b[39m\u001b[38;5;132;01m{\u001b[39;00mn\u001b[38;5;132;01m}\u001b[39;00m\u001b[38;5;124m: \u001b[39m\u001b[38;5;132;01m{\u001b[39;00mresult[\u001b[38;5;124m'\u001b[39m\u001b[38;5;124modds\u001b[39m\u001b[38;5;124m'\u001b[39m]\u001b[38;5;132;01m}\u001b[39;00m\u001b[38;5;124m\"\u001b[39m)\n\u001b[0;32m     27\u001b[0m             \u001b[38;5;28;01mbreak\u001b[39;00m \u001b[38;5;66;03m# Exits loop\u001b[39;00m\n\u001b[1;32m---> 29\u001b[0m \u001b[43mmain\u001b[49m\u001b[43m(\u001b[49m\u001b[43m)\u001b[49m\n",
      "Cell \u001b[1;32mIn[5], line 18\u001b[0m, in \u001b[0;36mmain\u001b[1;34m()\u001b[0m\n\u001b[0;32m     16\u001b[0m \u001b[38;5;28;01mdef\u001b[39;00m \u001b[38;5;21mmain\u001b[39m(): \u001b[38;5;66;03m# This function allows the user to input his/her desired values\u001b[39;00m\n\u001b[0;32m     17\u001b[0m     \u001b[38;5;28;01mwhile\u001b[39;00m \u001b[38;5;28;01mTrue\u001b[39;00m:\n\u001b[1;32m---> 18\u001b[0m         n \u001b[38;5;241m=\u001b[39m \u001b[38;5;28;43mint\u001b[39;49m\u001b[43m(\u001b[49m\u001b[38;5;28;43minput\u001b[39;49m\u001b[43m(\u001b[49m\u001b[38;5;124;43m\"\u001b[39;49m\u001b[38;5;124;43mPlease input a number: \u001b[39;49m\u001b[38;5;124;43m\"\u001b[39;49m\u001b[43m)\u001b[49m\u001b[43m)\u001b[49m \u001b[38;5;66;03m# Prompts user to input a number that is stored as the variable 'n'\u001b[39;00m\n\u001b[0;32m     19\u001b[0m         result \u001b[38;5;241m=\u001b[39m evens_and_odds(n) \u001b[38;5;66;03m# Stores the result\u001b[39;00m\n\u001b[0;32m     20\u001b[0m         additional_numbers \u001b[38;5;241m=\u001b[39m \u001b[38;5;28minput\u001b[39m(\u001b[38;5;124m\"\u001b[39m\u001b[38;5;124mWould you like to enter another number? (y/n)\u001b[39m\u001b[38;5;124m\"\u001b[39m) \u001b[38;5;66;03m# Asks the user if they want to nput another number\u001b[39;00m\n",
      "\u001b[1;31mValueError\u001b[0m: invalid literal for int() with base 10: ''"
     ]
    }
   ],
   "source": [
    "# Exercise 2 \n",
    "\n",
    "def evens_and_odds(n: int) -> dict: # Defines the evens_and_odds function that takes 'n' and returns a dictionary \n",
    "    \"\"\"\n",
    "    Return a dictionary with two keys: \"evens\" being the sum of all the even natural numbers less than n while \"odds\" is the sum of all natural numbers less than n.\n",
    "    \"\"\"\n",
    "\n",
    "    # Sum of all \"even\" natural numbers less than n\n",
    "    total_even = sum(x for x in range(2, n, 2)) # Starts from 2 up to n with a step of 2\n",
    "\n",
    "    # Sum for all \"odd\" natural numbers less than n\n",
    "    total_odd = sum(range(1, n, 2)) # Starts from 1 up to m with a step of 1\n",
    "\n",
    "    return {'evens': total_even, 'odds': total_odd} # Returns a dictionar with two keys: 'evens' and 'odds'\n",
    "\n",
    "def main(): # This function allows the user to input his/her desired values\n",
    "    while True:\n",
    "        n = int(input(\"Please input a number: \")) # Prompts user to input a number that is stored as the variable 'n'\n",
    "        result = evens_and_odds(n) # Stores the result\n",
    "        additional_numbers = input(\"Would you like to enter another number? (y/n)\") # Asks the user if they want to nput another number\n",
    "        if additional_numbers == \"y\": # If the user enters 'y', the loop continues\n",
    "            continue\n",
    "        else:\n",
    "            # Print out the sums of even and odd numbers kess than 'n'\n",
    "            print(f\"Sum of even numbers less than {n}: {result['evens']}\")\n",
    "            print(f\"Sum of odd numbers less than {n}: {result['odds']}\")\n",
    "            break # Exits loop\n",
    "\n",
    "main()"
   ]
  },
  {
   "cell_type": "code",
   "execution_count": 7,
   "metadata": {},
   "outputs": [
    {
     "name": "stdout",
     "output_type": "stream",
     "text": [
      "4.0\n",
      "There are 4 days between the two dates\n"
     ]
    }
   ],
   "source": [
    "from typing import Union\n",
    "from datetime import datetime # Using datetime package as assignment instructed\n",
    "\n",
    "# States that the first and second date arguments need to be strings; the third argument specifies the output format as a string\n",
    "# Union function states that multiple types are possible for the output value: a string or a float\n",
    "def time_diff(date_1: str, date_2: str, out: str = \"str\") -> Union[str, float]: \n",
    "    \"\"\"\n",
    "    This function takes two strings in the format 'YYYY-MM-DD' and a keyword 'float' or 'string'.\n",
    "    It returns the absolute difference in days between the two dates as a float or a string, based on the keyword.\n",
    "    \"\"\"\n",
    "\n",
    "    # Converting strings into date time objects\n",
    "    date_1 = datetime.strptime(date_1, '%Y-%m-%d') # Converts the string date_1 into a date time object using the format YYYY-MM-DD\n",
    "    date_2 = datetime.strptime(date_2, '%Y-%m-%d') # Converts the string date_2 into a date time object using the format YYYY-MM-DD\n",
    "\n",
    "    # Calculating the period between two days\n",
    "    date_format = abs((date_2 - date_1).days) # Takes the absolute value of the difference between the two dates\n",
    "\n",
    "    # Result\n",
    "    if out == \"float\": # If the output is a float\n",
    "        return float(date_format) # Return the date_float value\n",
    "    elif out == \"string\": # If the output is a string\n",
    "        return f\"There are {date_format} days between the two dates\" # Return the date_float value with additional text\n",
    "    else:\n",
    "        raise ValueError(\"Invalid Entry. Please input either 'float' or 'string' as the keyword.\") # If it's neither, produce an error\n",
    "\n",
    "# Test values\n",
    "print(time_diff('2024-04-02', '2024-04-06', 'float'))  # Should return \"4.0\"\n",
    "print(time_diff('2024-04-02', '2024-04-06', 'string'))  # Should return \"There are 4 days between the two dates\"\n"
   ]
  },
  {
   "cell_type": "code",
   "execution_count": 6,
   "metadata": {},
   "outputs": [
    {
     "ename": "KeyboardInterrupt",
     "evalue": "Interrupted by user",
     "output_type": "error",
     "traceback": [
      "\u001b[1;31m---------------------------------------------------------------------------\u001b[0m",
      "\u001b[1;31mKeyboardInterrupt\u001b[0m                         Traceback (most recent call last)",
      "Cell \u001b[1;32mIn[6], line 24\u001b[0m\n\u001b[0;32m     21\u001b[0m             \u001b[38;5;28mprint\u001b[39m(\u001b[38;5;124mf\u001b[39m\u001b[38;5;124m\"\u001b[39m\u001b[38;5;124mThe original list is \u001b[39m\u001b[38;5;132;01m{\u001b[39;00mkeywords\u001b[38;5;132;01m}\u001b[39;00m\u001b[38;5;124m and the reversed list is \u001b[39m\u001b[38;5;132;01m{\u001b[39;00mreverse_keywords\u001b[38;5;132;01m}\u001b[39;00m\u001b[38;5;124m.\u001b[39m\u001b[38;5;124m\"\u001b[39m) \u001b[38;5;66;03m# Prints out both the original and the reversed 'keywords' list\u001b[39;00m\n\u001b[0;32m     22\u001b[0m             \u001b[38;5;28;01mbreak\u001b[39;00m \u001b[38;5;66;03m# Exits the loop\u001b[39;00m\n\u001b[1;32m---> 24\u001b[0m \u001b[43mmain\u001b[49m\u001b[43m(\u001b[49m\u001b[43m)\u001b[49m\n",
      "Cell \u001b[1;32mIn[6], line 15\u001b[0m, in \u001b[0;36mmain\u001b[1;34m()\u001b[0m\n\u001b[0;32m     13\u001b[0m main_command \u001b[38;5;241m=\u001b[39m \u001b[38;5;28minput\u001b[39m(\u001b[38;5;124m\"\u001b[39m\u001b[38;5;124mPlease input a keyword: \u001b[39m\u001b[38;5;124m\"\u001b[39m) \u001b[38;5;66;03m# Asks the user to input a keyword\u001b[39;00m\n\u001b[0;32m     14\u001b[0m keywords\u001b[38;5;241m.\u001b[39mappend(main_command) \u001b[38;5;66;03m# Adds the inputted keyword to the 'keywords' list\u001b[39;00m\n\u001b[1;32m---> 15\u001b[0m additional_keywords \u001b[38;5;241m=\u001b[39m \u001b[38;5;28mstr\u001b[39m(\u001b[38;5;28;43minput\u001b[39;49m\u001b[43m(\u001b[49m\u001b[38;5;124;43m\"\u001b[39;49m\u001b[38;5;124;43mWould you like to enter another keyword? (y/n): \u001b[39;49m\u001b[38;5;124;43m\"\u001b[39;49m\u001b[43m)\u001b[49m) \u001b[38;5;66;03m# Asks the user to input another keyword, if desired\u001b[39;00m\n\u001b[0;32m     16\u001b[0m \u001b[38;5;28;01mif\u001b[39;00m additional_keywords \u001b[38;5;241m==\u001b[39m \u001b[38;5;124m\"\u001b[39m\u001b[38;5;124my\u001b[39m\u001b[38;5;124m\"\u001b[39m: \u001b[38;5;66;03m# If user says yes\u001b[39;00m\n\u001b[0;32m     17\u001b[0m     \u001b[38;5;28;01mcontinue\u001b[39;00m \u001b[38;5;66;03m# Continue with the loop\u001b[39;00m\n",
      "File \u001b[1;32m~\\AppData\\Local\\Packages\\PythonSoftwareFoundation.Python.3.12_qbz5n2kfra8p0\\LocalCache\\local-packages\\Python312\\site-packages\\ipykernel\\kernelbase.py:1282\u001b[0m, in \u001b[0;36mKernel.raw_input\u001b[1;34m(self, prompt)\u001b[0m\n\u001b[0;32m   1280\u001b[0m     msg \u001b[38;5;241m=\u001b[39m \u001b[38;5;124m\"\u001b[39m\u001b[38;5;124mraw_input was called, but this frontend does not support input requests.\u001b[39m\u001b[38;5;124m\"\u001b[39m\n\u001b[0;32m   1281\u001b[0m     \u001b[38;5;28;01mraise\u001b[39;00m StdinNotImplementedError(msg)\n\u001b[1;32m-> 1282\u001b[0m \u001b[38;5;28;01mreturn\u001b[39;00m \u001b[38;5;28;43mself\u001b[39;49m\u001b[38;5;241;43m.\u001b[39;49m\u001b[43m_input_request\u001b[49m\u001b[43m(\u001b[49m\n\u001b[0;32m   1283\u001b[0m \u001b[43m    \u001b[49m\u001b[38;5;28;43mstr\u001b[39;49m\u001b[43m(\u001b[49m\u001b[43mprompt\u001b[49m\u001b[43m)\u001b[49m\u001b[43m,\u001b[49m\n\u001b[0;32m   1284\u001b[0m \u001b[43m    \u001b[49m\u001b[38;5;28;43mself\u001b[39;49m\u001b[38;5;241;43m.\u001b[39;49m\u001b[43m_parent_ident\u001b[49m\u001b[43m[\u001b[49m\u001b[38;5;124;43m\"\u001b[39;49m\u001b[38;5;124;43mshell\u001b[39;49m\u001b[38;5;124;43m\"\u001b[39;49m\u001b[43m]\u001b[49m\u001b[43m,\u001b[49m\n\u001b[0;32m   1285\u001b[0m \u001b[43m    \u001b[49m\u001b[38;5;28;43mself\u001b[39;49m\u001b[38;5;241;43m.\u001b[39;49m\u001b[43mget_parent\u001b[49m\u001b[43m(\u001b[49m\u001b[38;5;124;43m\"\u001b[39;49m\u001b[38;5;124;43mshell\u001b[39;49m\u001b[38;5;124;43m\"\u001b[39;49m\u001b[43m)\u001b[49m\u001b[43m,\u001b[49m\n\u001b[0;32m   1286\u001b[0m \u001b[43m    \u001b[49m\u001b[43mpassword\u001b[49m\u001b[38;5;241;43m=\u001b[39;49m\u001b[38;5;28;43;01mFalse\u001b[39;49;00m\u001b[43m,\u001b[49m\n\u001b[0;32m   1287\u001b[0m \u001b[43m\u001b[49m\u001b[43m)\u001b[49m\n",
      "File \u001b[1;32m~\\AppData\\Local\\Packages\\PythonSoftwareFoundation.Python.3.12_qbz5n2kfra8p0\\LocalCache\\local-packages\\Python312\\site-packages\\ipykernel\\kernelbase.py:1325\u001b[0m, in \u001b[0;36mKernel._input_request\u001b[1;34m(self, prompt, ident, parent, password)\u001b[0m\n\u001b[0;32m   1322\u001b[0m \u001b[38;5;28;01mexcept\u001b[39;00m \u001b[38;5;167;01mKeyboardInterrupt\u001b[39;00m:\n\u001b[0;32m   1323\u001b[0m     \u001b[38;5;66;03m# re-raise KeyboardInterrupt, to truncate traceback\u001b[39;00m\n\u001b[0;32m   1324\u001b[0m     msg \u001b[38;5;241m=\u001b[39m \u001b[38;5;124m\"\u001b[39m\u001b[38;5;124mInterrupted by user\u001b[39m\u001b[38;5;124m\"\u001b[39m\n\u001b[1;32m-> 1325\u001b[0m     \u001b[38;5;28;01mraise\u001b[39;00m \u001b[38;5;167;01mKeyboardInterrupt\u001b[39;00m(msg) \u001b[38;5;28;01mfrom\u001b[39;00m \u001b[38;5;28;01mNone\u001b[39;00m\n\u001b[0;32m   1326\u001b[0m \u001b[38;5;28;01mexcept\u001b[39;00m \u001b[38;5;167;01mException\u001b[39;00m:\n\u001b[0;32m   1327\u001b[0m     \u001b[38;5;28mself\u001b[39m\u001b[38;5;241m.\u001b[39mlog\u001b[38;5;241m.\u001b[39mwarning(\u001b[38;5;124m\"\u001b[39m\u001b[38;5;124mInvalid Message:\u001b[39m\u001b[38;5;124m\"\u001b[39m, exc_info\u001b[38;5;241m=\u001b[39m\u001b[38;5;28;01mTrue\u001b[39;00m)\n",
      "\u001b[1;31mKeyboardInterrupt\u001b[0m: Interrupted by user"
     ]
    }
   ],
   "source": [
    "# Exercise 4\n",
    "\n",
    "def reverse(in_list: list) -> list: # Defines the reverse function that takes a list and returns a list\n",
    "\n",
    "    \"\"\"\n",
    "    This function called 'reverse' takes a list and returns a list in reverse order.\n",
    "    \"\"\"\n",
    "    return in_list[::-1] # Uses slicing to create a new list that is the reverse of the original list; it strts at the end of the list and moves backwards\n",
    "\n",
    "def main():\n",
    "    keywords = [] # Declares variable 'keywords' as a list\n",
    "    while True:\n",
    "        main_command = input(\"Please input a keyword: \") # Asks the user to input a keyword\n",
    "        keywords.append(main_command) # Adds the inputted keyword to the 'keywords' list\n",
    "        additional_keywords = str(input(\"Would you like to enter another keyword? (y/n): \")) # Asks the user to input another keyword, if desired\n",
    "        if additional_keywords == \"y\": # If user says yes\n",
    "            continue # Continue with the loop\n",
    "        #if additional_keywords == \"n\": # If user says no\n",
    "        else:\n",
    "            reverse_keywords = reverse(keywords) # Calls the reverse function to reverse the 'keywords' list\n",
    "            print(f\"The original list is {keywords} and the reversed list is {reverse_keywords}.\") # Prints out both the original and the reversed 'keywords' list\n",
    "            break # Exits the loop\n",
    "        \n",
    "main()"
   ]
  },
  {
   "cell_type": "code",
   "execution_count": null,
   "metadata": {},
   "outputs": [
    {
     "name": "stdout",
     "output_type": "stream",
     "text": [
      "The probability of getting 1 heads from 1 flips is 0.5\n"
     ]
    }
   ],
   "source": [
    "# Exercise 5\n",
    "\n",
    "def prob_k_heads(n: int, k: int) -> float:\n",
    "    \"\"\"\n",
    "    This function takes natural numbers 'n' and 'k' with 'n>k' and returns the probability of getting 'k' heads from 'n' flips.\n",
    "    \"\"\"\n",
    "    \n",
    "    # Calculate the factorial of n\n",
    "    factorial_n = 1\n",
    "    for i in range(1, n + 1):\n",
    "        factorial_n *= i\n",
    "\n",
    "    # Calculate the factorial of k\n",
    "    factorial_k = 1\n",
    "    for i in range(1, k + 1):\n",
    "        factorial_k *= i\n",
    "\n",
    "    # Calculate the factorial of (n - k)\n",
    "    factorial_n_k = 1\n",
    "    for i in range(1, n - k + 1):\n",
    "        factorial_n_k *= i\n",
    "\n",
    "    # Calculate the binomial coefficient (n choose k)\n",
    "    binomial_coefficient = factorial_n / (factorial_k * factorial_n_k)\n",
    "\n",
    "    # Calculate the probability\n",
    "    probability = binomial_coefficient * (0.5 ** n)\n",
    "\n",
    "    return probability\n",
    "\n",
    "\n",
    "def main():\n",
    "    while True:\n",
    "        n = int(input(\"Please input the number of coin flips desired: \"))\n",
    "        k = int(input(\"Please input the number of heads desired: \"))\n",
    "        if n >= k:\n",
    "            break\n",
    "        else:\n",
    "            print(\"Please ensure that the number of coin flips is greater than or equal to the number of heads desired.\")\n",
    "\n",
    "    probability = prob_k_heads(n, k)\n",
    "    print(f\"The probability of getting {k} heads from {n} flips is {probability}\")\n",
    "\n",
    "main()"
   ]
  }
 ],
 "metadata": {
  "kernelspec": {
   "display_name": "Python 3",
   "language": "python",
   "name": "python3"
  },
  "language_info": {
   "codemirror_mode": {
    "name": "ipython",
    "version": 3
   },
   "file_extension": ".py",
   "mimetype": "text/x-python",
   "name": "python",
   "nbconvert_exporter": "python",
   "pygments_lexer": "ipython3",
   "version": "3.12.2"
  }
 },
 "nbformat": 4,
 "nbformat_minor": 2
}
