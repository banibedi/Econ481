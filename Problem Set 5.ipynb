{
 "cells": [
  {
   "cell_type": "code",
   "execution_count": null,
   "metadata": {},
   "outputs": [],
   "source": [
    "# Exercise 0\n",
    "\n",
    "def github() -> str:\n",
    "    \"\"\"\n",
    "    This function will return Bani Bedi's GitHub page for Problem Set 5.\n",
    "    \"\"\"\n",
    "\n",
    "    return \"https://github.com/banibedi/Econ481.git\""
   ]
  },
  {
   "cell_type": "code",
   "execution_count": 16,
   "metadata": {},
   "outputs": [
    {
     "name": "stdout",
     "output_type": "stream",
     "text": [
      "Successfully saved the code to C:\\Users\\bedib\\Desktop\\scraped_code.py\n"
     ]
    }
   ],
   "source": [
    "import requests # Makes HTTP requests in Python\n",
    "from bs4 import BeautifulSoup # Python library that parses HTML and XML documents\n",
    "import os # Will help read or write the file into a system\n",
    "\n",
    "def scrape_code(url: str, filename: str) -> str: # Defines the 'scrape_code' function; it takes the URL (a string) and filename (a string), and indicates that the result will also be a string\n",
    "    \"\"\"\n",
    "    The function 'scrape_code' takes a lecture's URL and a filename, then scrapes all the Python code,\n",
    "    saves it to a file on the user's desktop, and handles errors that might occur during the process.\n",
    "    \"\"\"\n",
    "    try:\n",
    "        # Create a path to the user's desktop for file to save\n",
    "        desktop = os.path.join(os.path.expanduser(\"~\"), \"Desktop\") # Finds home directory of the current user; creates a path to Desktop folder\n",
    "        full_path = os.path.join(desktop, filename) # Combines desktop name with filename; creates the full file path where scrapped code will be saved\n",
    "\n",
    "        # Send a GET request to the URL\n",
    "        response = requests.get(url) # Sends GET request to the specified URL and stores it in \"response\"\n",
    "        response.raise_for_status()  # Checks for HTTP errors\n",
    "\n",
    "        # Parse the HTML content\n",
    "        soup = BeautifulSoup(response.text, 'html.parser') # Parses HTML\n",
    "\n",
    "        # Find elements that contain Python code\n",
    "        code_blocks = soup.find_all('pre')  # Finds all <pre? tags in HTML\n",
    "\n",
    "        # Extract and compile code\n",
    "        python_code = \"\" # Initializes string\n",
    "        for block in code_blocks: # Loops over each block\n",
    "            code = block.text.strip() # Extracts text from the block and strips any leading or trailing whitespace\n",
    "            # Filter out relevant lines\n",
    "            code_lines = [line for line in code.split('\\n') if not line.startswith('%')] # Filters any lines that start with %\n",
    "            filtered_code = '\\n'.join(code_lines) # Joins the filtered lines back into a single string\n",
    "            \n",
    "            python_code += filtered_code + '\\n\\n' # Adds new lines for separation between code and blocks\n",
    "\n",
    "        # Save the code to a Python file on the desktop\n",
    "        with open(full_path, 'w') as file: # Opens the file and overwrites, or creates one if it doesn't exist\n",
    "            file.write(python_code) # Writes the python code into the file\n",
    "\n",
    "        return f\"Successfully saved the code to {full_path}\" # Returns a message that states that the code has been successfully saved in the file\n",
    "\n",
    "    except Exception as e: # Calculates any exceptions that may have been raised in the try block\n",
    "        return f\"An error occurred: {e}\" # Returns an error message\n",
    "\n",
    "# Test URL\n",
    "url = \"https://lukashager.netlify.app/econ-481/01_intro_to_python\"\n",
    "filename = \"scraped_code.py\"\n",
    "print(scrape_code(url, filename))\n"
   ]
  }
 ],
 "metadata": {
  "kernelspec": {
   "display_name": "Python 3",
   "language": "python",
   "name": "python3"
  },
  "language_info": {
   "codemirror_mode": {
    "name": "ipython",
    "version": 3
   },
   "file_extension": ".py",
   "mimetype": "text/x-python",
   "name": "python",
   "nbconvert_exporter": "python",
   "pygments_lexer": "ipython3",
   "version": "3.12.3"
  }
 },
 "nbformat": 4,
 "nbformat_minor": 2
}
